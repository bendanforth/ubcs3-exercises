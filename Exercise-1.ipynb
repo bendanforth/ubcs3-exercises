{
 "cells": [
  {
   "cell_type": "markdown",
   "metadata": {},
   "source": [
    "# Tensors"
   ]
  },
  {
   "cell_type": "markdown",
   "metadata": {},
   "source": [
    "Tensors are mathematical objects which are extremely useful to mathematicians and physicists. My recent personal project has been to learn a bit about them, and try to work with them. \n",
    "\n",
    "We first give an example to introduce some of the notation involved in the tensor calculus. \n",
    "\n",
    "------"
   ]
  },
  {
   "cell_type": "markdown",
   "metadata": {},
   "source": [
    "### Example\n"
   ]
  },
  {
   "cell_type": "markdown",
   "metadata": {},
   "source": [
    "Consider the following linear form\n",
    "$$ax + bx + cz$$\n",
    "if we introduce the labels $a_i \\in \\{ a , b , c \\}$ and $x^i \\in \\{ x, y, z \\}$ the linear form can be written as\n",
    "$$a_1 x^1 + a_2 x^2 + a_3 x^3 = \\sum_{i=1}^3 a_i x^i$$\n",
    "If we use Einstein's notation, we can forget about the summation symbol and recognize a sum is to be made by observing that there is one upper index, and one lower index, both of the same letter. Thus\n",
    "$$a_i x^i$$\n",
    "means to sum over the values which $i$ can take, which must be specified at some point. In our case, $i \\in \\{ 1,2,3 \\}$. We are starting to see the power of such a compact notation. \n",
    "\n",
    "-------"
   ]
  },
  {
   "cell_type": "markdown",
   "metadata": {},
   "source": [
    "Tensors are characterized by their transformation laws. In physics, tensors are objects of study under the transformation of a coordinate change. \n",
    "\n",
    "Say we have a system of coordinates $x^k$, $k \\in \\{ 1,2,\\dots,N\\}$ which are arbitrarily transformed into a new set of variables $z^k$ by\n",
    "$$z^k = z^k(x^1, x^2, \\dots , x^N)$$\n",
    "*Note that the superscripts are not powers, but coordinate labels*. Then, due to the relations\n",
    "$$dz^k = \\frac{\\partial z^k}{\\partial x^m} dx^m \\hspace{6mm} (k,m = 1,2,\\dots,N)$$\n"
   ]
  },
  {
   "cell_type": "code",
   "execution_count": null,
   "metadata": {
    "collapsed": true
   },
   "outputs": [],
   "source": []
  }
 ],
 "metadata": {
  "kernelspec": {
   "display_name": "Python 3",
   "language": "python",
   "name": "python3"
  },
  "language_info": {
   "codemirror_mode": {
    "name": "ipython",
    "version": 3
   },
   "file_extension": ".py",
   "mimetype": "text/x-python",
   "name": "python",
   "nbconvert_exporter": "python",
   "pygments_lexer": "ipython3",
   "version": "3.5.1"
  }
 },
 "nbformat": 4,
 "nbformat_minor": 0
}
