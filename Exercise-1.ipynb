{
 "cells": [
  {
   "cell_type": "markdown",
   "metadata": {},
   "source": [
    "# Tensors"
   ]
  },
  {
   "cell_type": "markdown",
   "metadata": {},
   "source": [
    "![tensor](https://upload.wikimedia.org/wikipedia/commons/thumb/4/45/Components_stress_tensor.svg/526px-Components_stress_tensor.svg.png)"
   ]
  },
  {
   "cell_type": "markdown",
   "metadata": {},
   "source": [
    "Tensors are mathematical objects which are extremely useful to mathematicians and physicists. One of my recent personal projects has been to learn a bit about them, and try to work with them. The notes below are made from Nils and Mirjana Dalarsson's book [Tensors, Relativity and Cosmology](https://www.amazon.com/Relativity-Engineering-Licentiate-Theoretical-Mathematical/dp/012200681X)."
   ]
  },
  {
   "cell_type": "markdown",
   "metadata": {},
   "source": [
    "----"
   ]
  },
  {
   "cell_type": "markdown",
   "metadata": {},
   "source": [
    "We first give an example to introduce some of the notation involved in the tensor calculus. "
   ]
  },
  {
   "cell_type": "markdown",
   "metadata": {},
   "source": [
    "#### Example"
   ]
  },
  {
   "cell_type": "markdown",
   "metadata": {},
   "source": [
    "Consider the following linear form:"
   ]
  },
  {
   "cell_type": "markdown",
   "metadata": {},
   "source": [
    "$$ax + by + cz$$"
   ]
  },
  {
   "cell_type": "markdown",
   "metadata": {},
   "source": [
    "If we introduce the labels $a_i \\in \\{ a , b , c \\}$ and $x^i \\in \\{ x, y, z \\}$ the linear form can be written as:"
   ]
  },
  {
   "cell_type": "markdown",
   "metadata": {},
   "source": [
    "$$a_1 x^1 + a_2 x^2 + a_3 x^3 = \\sum_{i=1}^3 a_i x^i$$"
   ]
  },
  {
   "cell_type": "markdown",
   "metadata": {},
   "source": [
    "If we use Einstein's notation, we can forget about the summation symbol and just recognize a sum is to be performed by observing that there is one upper index, and one lower index, both with same letter. Thus"
   ]
  },
  {
   "cell_type": "markdown",
   "metadata": {},
   "source": [
    "$$a_i x^i$$"
   ]
  },
  {
   "cell_type": "markdown",
   "metadata": {},
   "source": [
    "means to sum over the values which $i$ can take, which must be specified at some point. In our case, $i \\in \\{ 1,2,3 \\}$. The tensor notation is extremely compact."
   ]
  },
  {
   "cell_type": "markdown",
   "metadata": {},
   "source": [
    "-----"
   ]
  },
  {
   "cell_type": "markdown",
   "metadata": {},
   "source": [
    "### Systems"
   ]
  },
  {
   "cell_type": "markdown",
   "metadata": {},
   "source": [
    "In the example above the objects we used carried one index, and in general we call such an object a *first-order system*. We call the number of values which the indicies can take the *dimension* of the system. The positions of the indicies serve to indicate the diference between the two first order systems $a_i$ and $x^i$ - the former being constants, and the latter being variables. We will soon be seeing that in the tensor calculus lower and upper indicies serve to denote mathematical objects of more subtle difference. A system of quantities determined by two indicies is called a *second-order system*. Such a system, say $a_{ij}$ may be identified with a matrix. "
   ]
  },
  {
   "cell_type": "markdown",
   "metadata": {},
   "source": [
    "The most general system of order $K$ is denoted by"
   ]
  },
  {
   "cell_type": "markdown",
   "metadata": {},
   "source": [
    "$$a_{i_1 , i_2, \\dots , i_K} \\hspace{6mm} (i_1 , i_2, \\dots, i_K = 1,2, \\dots , N)$$"
   ]
  },
  {
   "cell_type": "markdown",
   "metadata": {},
   "source": [
    "and there may be a mixture of upper and lower indicies, each giving a system of a certain type. The $K$th-order system in $N$ dimensions has $N^K$ elements."
   ]
  },
  {
   "cell_type": "markdown",
   "metadata": {},
   "source": [
    "### Operations with Systems"
   ]
  },
  {
   "cell_type": "markdown",
   "metadata": {},
   "source": [
    "We can **add and subtract** systems which share the same order (number of indicies) and type (positions of indicies). These operations can then be done element-wise. A symbolic representation of such an operation is as follows:"
   ]
  },
  {
   "cell_type": "markdown",
   "metadata": {},
   "source": [
    "$$A^{ij}_{km} =M^{ij}_{km} + N^{ij}_{km}$$"
   ]
  },
  {
   "cell_type": "markdown",
   "metadata": {},
   "source": [
    "We can multiply each element of one system by each element of another (whatever their order or type is) and this is called a **direct product** of two systems. For an example, the product of two first-order systems $a^i$ and $b^j$ is a second-order system $c^{ij}$."
   ]
  },
  {
   "cell_type": "markdown",
   "metadata": {},
   "source": [
    "When a system has at least one upper index and one lower index, we can perform a **contraction**. To do this, we let this oposing pair of indicies take on the same letter, and by Einstein's convention - sum over them. Say we have a third order system $X_{k}^{ij}$. After performing a contraction with the indicies $j$ and $k$ we obtain a first-order system"
   ]
  },
  {
   "cell_type": "markdown",
   "metadata": {},
   "source": [
    "$$X^{i} = X^{ij}_j$$"
   ]
  },
  {
   "cell_type": "markdown",
   "metadata": {},
   "source": [
    "Constraction of a system of order $k$ gives a system or order $k-2$."
   ]
  },
  {
   "cell_type": "markdown",
   "metadata": {},
   "source": [
    "Finally we want to mention **composition of systems**. This operations involves the direct product of, and the contraction of two systems. To illistrate, consider the systems $a^k$ and $b_j$. Their direct product is a mixed second-order system $a^k b_j$, and we can perform a contraction on it. We get a zeroth-order system"
   ]
  },
  {
   "cell_type": "markdown",
   "metadata": {},
   "source": [
    "$$c = a^j b_j = a^1 b_1 + a^2 b_2 + \\dots + a^N b_N$$"
   ]
  },
  {
   "cell_type": "markdown",
   "metadata": {},
   "source": [
    "------"
   ]
  },
  {
   "cell_type": "markdown",
   "metadata": {},
   "source": [
    "### Moving on From Systems - Tensors"
   ]
  },
  {
   "cell_type": "markdown",
   "metadata": {},
   "source": [
    "Tensors are systems which have [linear](https://en.wikipedia.org/wiki/Linear_map) and [homogeneous](https://en.wikipedia.org/wiki/Homogeneous_function) transformation laws. Thus, these mathematical objects are characterized according to their transformation laws. In physics, we see tensors as objects of study under the transformation of a coordinate change. We now look at the difference between a *contravariant* and a *covariant* tensor."
   ]
  },
  {
   "cell_type": "markdown",
   "metadata": {},
   "source": [
    "#### Contravariant Tensors"
   ]
  },
  {
   "cell_type": "markdown",
   "metadata": {},
   "source": [
    "Say we have a system of coordinates $x^k$, $k \\in \\{ 1,2,\\dots,N\\}$ which are arbitrarily transformed into a new set $z^k$ by"
   ]
  },
  {
   "cell_type": "markdown",
   "metadata": {},
   "source": [
    "$$z^k = z^k(x^1, x^2, \\dots , x^N)$$"
   ]
  },
  {
   "cell_type": "markdown",
   "metadata": {},
   "source": [
    "*Note that the superscripts are not powers, but coordinate labels*. As an example of this, consider the three equations we get in going from cartesian coordinates to spherical coordinates. In the general case, we have the relations"
   ]
  },
  {
   "cell_type": "markdown",
   "metadata": {},
   "source": [
    "$$ \\begin{align} dz^1 &= \\frac{\\partial z^1}{\\partial x^1} dx^1 + \\frac{\\partial z^1}{\\partial x^2} dx^2 + \\dots + \\frac{\\partial z^1}{\\partial x^N} dx^N\n",
    "\\\\ dz^2 &= \\frac{\\partial z^2}{\\partial x^1} dx^1 + \\frac{\\partial z^2}{\\partial x^2} dx^2 + \\dots + \\frac{\\partial z^2}{\\partial x^N} dx^N\n",
    "\\\\ &\\vdots\n",
    "\\\\ dz^N &= \\frac{\\partial z^N}{\\partial x^1} dx^1 + \\frac{\\partial z^N}{\\partial x^2} dx^2 + \\dots + \\frac{\\partial z^N}{\\partial x^N} dx^N \\end{align}$$ "
   ]
  },
  {
   "cell_type": "markdown",
   "metadata": {},
   "source": [
    "or, by using the tensor notation, just"
   ]
  },
  {
   "cell_type": "markdown",
   "metadata": {},
   "source": [
    "$$ dz^k = \\frac{\\partial z^k}{\\partial x^m} dx^m \\hspace{6mm} (k,m = 1,2,\\dots,N)$$"
   ]
  },
  {
   "cell_type": "markdown",
   "metadata": {},
   "source": [
    "giving us our first example of a tensor. The differentials of the coordinates $dz^i$ are linear and homogeneous functions of the old coordinates $dx^m$. Any system of quantities defined with respect to the system of coordinates $\\{x^k\\}$ and $\\{z^k\\}$ by $N$ quantities $A^k$ and $\\bar{A^k}$ respectively, which is transformed according to the transformation law"
   ]
  },
  {
   "cell_type": "markdown",
   "metadata": {},
   "source": [
    "$$\\bar{A^k} = \\frac{\\partial z^k}{\\partial x^m} A^m \\hspace{6mm} (k,m = 1,2,\\dots,N)$$"
   ]
  },
  {
   "cell_type": "markdown",
   "metadata": {},
   "source": [
    "is called a *contravariant vector*. We denote contravariant vectors by one upper index. Consider a system of $N^2$ products given by the direct product of two contravariant vectors $B^m$ and $D^n$, denoted by"
   ]
  },
  {
   "cell_type": "markdown",
   "metadata": {},
   "source": [
    "$$A^{mn} = B^m D^n$$"
   ]
  },
  {
   "cell_type": "markdown",
   "metadata": {},
   "source": [
    "with respect to the set of coordinates $\\{ x^k \\}$. What does this system look like in another set of coordinates $\\{ z^k \\}$? Individually, we have both"
   ]
  },
  {
   "cell_type": "markdown",
   "metadata": {},
   "source": [
    "$$\\bar{B^{j}} = \\frac{\\partial z^j}{\\partial x^m} B^m \\hspace{6mm} (j,m = 1,2,\\dots,N) \\hspace{10mm} \\text{and} \\hspace{10mm} \\bar{D^{k}} = \\frac{\\partial z^k}{\\partial x^n} D^n \\hspace{6mm} (k,n = 1,2,\\dots,N) $$"
   ]
  },
  {
   "cell_type": "markdown",
   "metadata": {},
   "source": [
    "so the transformation law for $A^{mn}$ is just"
   ]
  },
  {
   "cell_type": "markdown",
   "metadata": {},
   "source": [
    "$$\\bar{A^{jk}} = \\bar{B^j}\\bar{D^k} = \\frac{\\partial z^j}{\\partial x^m} \\frac{\\partial z^k}{\\partial x^n} B^m D^n = \\frac{\\partial z^j}{\\partial x^m} \\frac{\\partial z^k}{\\partial x^n} A^{mn}.$$"
   ]
  },
  {
   "cell_type": "markdown",
   "metadata": {},
   "source": [
    "Any second order system, defined with respect to the system of coordinates $\\{x^k\\}$ and $\\{z^k\\}$ by $N^2$ quantities $A^{mn}$ and $\\bar{A^{jk}}$ respectively, that is transformed according to the transformation law"
   ]
  },
  {
   "cell_type": "markdown",
   "metadata": {},
   "source": [
    "$$\\bar{A^{jk}} = \\frac{\\partial z^j}{\\partial x^m} \\frac{\\partial z^k}{\\partial x^n} A^{mn}$$"
   ]
  },
  {
   "cell_type": "markdown",
   "metadata": {},
   "source": [
    "is called a *second-order contravariant tensor*. We denote second-order contravariant tensors with two upper indicies. It is possible to define contravariant tensors of arbitrary order this way."
   ]
  },
  {
   "cell_type": "markdown",
   "metadata": {},
   "source": [
    "#### Covariant Tensors"
   ]
  },
  {
   "cell_type": "markdown",
   "metadata": {},
   "source": [
    "Consider a zeroth-order system $G$, which is to say, some scalar field. Under a coordinate transformation $\\{x^k\\} \\rightarrow \\{z^k\\}$ the system of quantities"
   ]
  },
  {
   "cell_type": "markdown",
   "metadata": {},
   "source": [
    "$$\\frac{\\partial G}{\\partial x^i}$$"
   ]
  },
  {
   "cell_type": "markdown",
   "metadata": {},
   "source": [
    "is transformed by the transformation law"
   ]
  },
  {
   "cell_type": "markdown",
   "metadata": {},
   "source": [
    "$$\\frac{\\partial G}{\\partial z^k} = \\frac{\\partial x^m}{\\partial z^k}\\frac{\\partial G}{\\partial x^m} \\hspace{6mm} (k,m = 1,2,\\dots,N).$$"
   ]
  },
  {
   "cell_type": "markdown",
   "metadata": {},
   "source": [
    "The components of $\\partial G / \\partial z^K$ are linear and homogeneous functions of the components $\\partial G / \\partial x^m$. "
   ]
  },
  {
   "cell_type": "markdown",
   "metadata": {},
   "source": [
    "Any system of quantities defined with respect to the system of coordinates $\\{x^k\\}$ and $\\{z^k\\}$ by $N$ quantities $B_k$ and $\\bar{B_k}$ respectively, which is transformed according to the transformation law"
   ]
  },
  {
   "cell_type": "markdown",
   "metadata": {},
   "source": [
    "$$\\bar{B_k} = \\frac{\\partial x^m}{\\partial z^k} B_k \\hspace{6mm} (k,m = 1,2,\\dots,N)$$"
   ]
  },
  {
   "cell_type": "markdown",
   "metadata": {},
   "source": [
    "is called a *covariant vector* and are denoted with one lower index. In the same way we defined arbitrary orders of cavariant tensors above, we can define arbitrary orders of covariant tensors. "
   ]
  },
  {
   "cell_type": "markdown",
   "metadata": {},
   "source": [
    "#### Mixed Tensor"
   ]
  },
  {
   "cell_type": "markdown",
   "metadata": {},
   "source": [
    "Say we have a system defined with respect to the coordinates $\\{x^k\\}$ and $\\{z^k\\}$ by $N^4$ quanities $A_{ps}^{mn}$ and $\\bar{A_{kl}^{ij}}$ respectively, which is transformed according to"
   ]
  },
  {
   "cell_type": "markdown",
   "metadata": {},
   "source": [
    "$$\\bar{A_{kl}^{ij}} = \\frac{\\partial z^i}{\\partial x^m} \\frac{\\partial z^j}{\\partial x^n} \\frac{\\partial x^p}{\\partial z^k}\\frac{\\partial x^s}{\\partial z^l} A_{ps}^{mn}$$"
   ]
  },
  {
   "cell_type": "markdown",
   "metadata": {},
   "source": [
    "$A_{ps}^{mn}$ is called a *fourth-order mixed tensor*. The indicies $m$ and $n$ are contravariant indicies, and the indicies $p$ and $s$ are covariant indicies. It is possible to define mixed tensors with any combination of upper and lower indicies.  "
   ]
  },
  {
   "cell_type": "code",
   "execution_count": null,
   "metadata": {
    "collapsed": true
   },
   "outputs": [],
   "source": []
  }
 ],
 "metadata": {
  "kernelspec": {
   "display_name": "Python 3",
   "language": "python",
   "name": "python3"
  },
  "language_info": {
   "codemirror_mode": {
    "name": "ipython",
    "version": 3
   },
   "file_extension": ".py",
   "mimetype": "text/x-python",
   "name": "python",
   "nbconvert_exporter": "python",
   "pygments_lexer": "ipython3",
   "version": "3.5.1"
  }
 },
 "nbformat": 4,
 "nbformat_minor": 0
}
